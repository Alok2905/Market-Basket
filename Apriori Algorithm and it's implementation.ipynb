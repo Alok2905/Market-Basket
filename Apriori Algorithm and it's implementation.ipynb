{
 "cells": [
  {
   "cell_type": "markdown",
   "execution_count": null,
   "metadata": {},
   "source": [
    "# Author: Kazi Amit Hasan\n",
    "\n",
    "Department of Computer Science & Engineering, <br>\n",
    "Rajshahi University of Engineering & Technology (RUET) <br>\n",
    "Website: https://amithasanshuvo.github.io/ <br>\n",
    "ResearchGate: https://www.researchgate.net/profile/Kazi_Amit_Hasan <br>\n",
    "Linkedin: hhttps://www.linkedin.com/in/kazi-amit-hasan/ <br>\n",
    "Email: kaziamithasan89@gmail.com\n",
    "\n",
    "Upvote if you find it useful."
   ]
  },
  {
   "cell_type": "markdown",
   "execution_count": null,
   "metadata": {},
   "source": [
    "# Theory:"
   ]
  },
  {
   "cell_type": "markdown",
   "execution_count": null,
   "metadata": {},
   "source": [
    "**What is apriori algorithm?**\n",
    "\n",
    "Apriori Algorithm is a Machine Learning algorithm that is used to gain insight into the structured relationships between different items involved. It’s a data mining technique that is used for mining frequent itemsets and relevant association rules.\n",
    "\n",
    "Example: Recommending products based on your purchased items. You can see this in different e-commerce websites. (Recommendation system)\n",
    "\n",
    "\n",
    "**Things that we need to know before implementation:**\n",
    "\n",
    "**Association rule:** \n",
    "It identifies frequent patterns and associations(relations) among a set of items. Ex: If you go to buy a keyboard, you might also get a mouse. So place them aside in your market to get more profit.\n",
    "\n",
    "**Support:** \n",
    "Support refers to the default popularity of an item and can be calculated by finding the number of transactions containing a particular item divided by total number of transactions.\n",
    "```\n",
    "Support (Keyboard) = (Transactions containing (Keyboard)) / (Total Transactions))\n",
    "\n",
    "```\n",
    "**Confidence:**\n",
    "Confidence refers to the likelihood that an item B (mouse) is also bought if item A (keyboard) is bought. Like our keyboard and mouse example. \n",
    "\n",
    "`Confidence(Keyboard→Mouse) = (Transactions containing both (Keyboard and Mouse))/(Transactions containing Keyboard)`\n",
    "\n",
    "**Lift:**\n",
    "Lift(Keyboard -&gt; Mouse) refers to the increase in the ratio of sale of Mouse when the Keyboard is sold. \n",
    "Lift(Keyboard -&gt; Mouse) can be calculated by dividing Confidence(Keyboard→Mouse) divided by Support(Mouse). \n",
    "\n",
    "```\n",
    "Lift(Keyboard -&gt; Mouse) = (Confidence(Keyboard→Mouse))   /  (Support (Mouse))\n",
    "\n",
    "```\n",
    "\n",
    "\n",
    "\n",
    "References: \n",
    "1. https://www.geeksforgeeks.org/apriori-algorithm/\n",
    "2. https://stackabuse.com/association-rule-mining-via-apriori-algorithm-in-python/\n",
    "3. https://github.com/AmitHasanShuvo/Machine-Learning-Projects/tree/master/Apriori%20Algorithm\n",
    "4. https://www.kaggle.com/getting-started/157119"
   ]
  },
  {
   "cell_type": "markdown",
   "execution_count": null,
   "metadata": {},
   "source": [
    "# Code "
   ]
  },
  {
   "cell_type": "code",
   "execution_count": null,
   "metadata": {},
   "outputs": [],
   "source": [
    "import numpy as np \n",
    "import pandas as pd \n",
    "from mlxtend.frequent_patterns import apriori, association_rules"
   ]
  },
  {
   "cell_type": "code",
   "execution_count": null,
   "metadata": {},
   "outputs": [],
   "source": [
    "data = pd.read_csv('../input/supermarket/GroceryStoreDataSet.csv',names=['Products'],header=None)"
   ]
  },
  {
   "cell_type": "code",
   "execution_count": null,
   "metadata": {},
   "outputs": [],
   "source": [
    "data.head()"
   ]
  },
  {
   "cell_type": "code",
   "execution_count": null,
   "metadata": {},
   "outputs": [],
   "source": [
    "data.values"
   ]
  },
  {
   "cell_type": "code",
   "execution_count": null,
   "metadata": {},
   "outputs": [],
   "source": [
    "data = list(data[\"Products\"].apply(lambda x:x.split(',')))\n",
    "data "
   ]
  },
  {
   "cell_type": "code",
   "execution_count": null,
   "metadata": {},
   "outputs": [],
   "source": [
    "from mlxtend.preprocessing import TransactionEncoder\n",
    "te = TransactionEncoder()"
   ]
  },
  {
   "cell_type": "code",
   "execution_count": null,
   "metadata": {},
   "outputs": [],
   "source": [
    "te_data = te.fit(data).transform(data)"
   ]
  },
  {
   "cell_type": "code",
   "execution_count": null,
   "metadata": {},
   "outputs": [],
   "source": [
    "df = pd.DataFrame(te_data,columns=te.columns_)\n",
    "df.head()"
   ]
  },
  {
   "cell_type": "code",
   "execution_count": null,
   "metadata": {},
   "outputs": [],
   "source": [
    "frq_items = apriori(df, min_support = 0.1, use_colnames = True)"
   ]
  },
  {
   "cell_type": "code",
   "execution_count": null,
   "metadata": {},
   "outputs": [],
   "source": [
    "frq_items"
   ]
  },
  {
   "cell_type": "code",
   "execution_count": null,
   "metadata": {},
   "outputs": [],
   "source": [
    "rules = association_rules(frq_items, metric =\"lift\", min_threshold = 1) \n",
    "rules = rules.sort_values(['confidence', 'lift'], ascending =[False, False])"
   ]
  },
  {
   "cell_type": "code",
   "execution_count": null,
   "metadata": {},
   "outputs": [],
   "source": [
    "print(rules.head())\n"
   ]
  }
 ],
 "metadata": {
  "kernelspec": {
   "display_name": "Python 3",
   "language": "python",
   "name": "python3"
  },
  "language_info": {
   "codemirror_mode": {
    "name": "ipython",
    "version": 3
   },
   "file_extension": ".py",
   "mimetype": "text/x-python",
   "name": "python",
   "nbconvert_exporter": "python",
   "pygments_lexer": "ipython3",
   "version": "3.6.4"
  }
 },
 "nbformat": 4,
 "nbformat_minor": 4
}
